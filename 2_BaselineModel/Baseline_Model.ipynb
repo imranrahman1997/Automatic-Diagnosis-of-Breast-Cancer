{
  "nbformat": 4,
  "nbformat_minor": 0,
  "metadata": {
    "colab": {
      "provenance": [],
      "gpuType": "T4"
    },
    "kernelspec": {
      "name": "python3",
      "display_name": "Python 3"
    },
    "language_info": {
      "name": "python"
    },
    "accelerator": "GPU"
  },
  "cells": [
    {
      "cell_type": "markdown",
      "source": [
        "# **Baseline Model**"
      ],
      "metadata": {
        "id": "dvqc671ZHXDS"
      }
    },
    {
      "cell_type": "markdown",
      "source": [
        "# **Model Choice**\n",
        "\n",
        "For the baseline model, a **Convolutional Neural Network (CNN)** was used. CNNs are a widely adopted approach for image classification tasks due to their ability to automatically learn spatial hierarchies in the data. In this project, a simple CNN architecture was implemented to classify breast cancer images as **benign** or **malignant**."
      ],
      "metadata": {
        "id": "yyUbZf7iHcFd"
      }
    },
    {
      "cell_type": "code",
      "source": [
        "import torch\n",
        "import torchvision.transforms as transforms\n",
        "from torch.utils.data import Dataset, DataLoader\n",
        "import os\n",
        "from PIL import Image\n",
        "import numpy as np\n",
        "import pandas as pd\n",
        "import torch.nn as nn\n",
        "import torch.nn.functional as F\n",
        "import random\n",
        "from sklearn.model_selection import train_test_split\n",
        "import matplotlib.pyplot as plt\n",
        "from sklearn.utils import resample\n",
        "from torch.utils.data import Dataset\n",
        "import torch.optim as optim\n",
        "from torch.utils.data import DataLoader, WeightedRandomSampler\n",
        "from sklearn.metrics import roc_auc_score"
      ],
      "metadata": {
        "id": "2xmIwWFFHZUb"
      },
      "execution_count": 1,
      "outputs": []
    },
    {
      "cell_type": "code",
      "source": [
        "# Set random seed for reproducibility\n",
        "random_seed = 1\n",
        "torch.backends.cudnn.enabled = False  # Disable CuDNN for deterministic behavior\n",
        "torch.manual_seed(random_seed)  # Set manual seed for PyTorch\n"
      ],
      "metadata": {
        "colab": {
          "base_uri": "https://localhost:8080/"
        },
        "id": "mcE_aUo7Hd2c",
        "outputId": "efe557cd-2905-4510-b0b1-276e2ea8ff0c"
      },
      "execution_count": 2,
      "outputs": [
        {
          "output_type": "execute_result",
          "data": {
            "text/plain": [
              "<torch._C.Generator at 0x792e305159f0>"
            ]
          },
          "metadata": {},
          "execution_count": 2
        }
      ]
    },
    {
      "cell_type": "markdown",
      "source": [
        "# **Feature Selection**"
      ],
      "metadata": {
        "id": "oWE9QgCPHkcR"
      }
    },
    {
      "cell_type": "code",
      "source": [
        "# Define dataset paths\n",
        "root_dir = '/content/drive/MyDrive/Intermadiate_Machine_Learning/Final_project/training_set'\n",
        "benign_dir = f'{root_dir}/benign'  # Path to benign images\n",
        "malignant_dir = f'{root_dir}/malignant'  # Path to malignant images"
      ],
      "metadata": {
        "id": "j09eddcTHhVl"
      },
      "execution_count": 3,
      "outputs": []
    },
    {
      "cell_type": "code",
      "source": [
        "# Function to create a dataset info dataframe\n",
        "def create_dataset_info_dataframe(dataset_path):\n",
        "    data = {'x_dim': [], 'y_dim': [], 'label': [], 'num_of_masks': [], 'path': []}\n",
        "\n",
        "    # Loop through benign and malignant directories\n",
        "    for label in ['benign', 'malignant']:\n",
        "        class_dir = os.path.join(dataset_path, label)\n",
        "        # Loop through files in the directory\n",
        "        for file in os.listdir(class_dir):\n",
        "            if file.endswith('.png') and not '_mask' in file:  # Check if the file is an image\n",
        "                study_id = file.split('.')[0]  # Extract study ID\n",
        "                img_path = os.path.join(class_dir, file)  # Full path to the image\n",
        "                img = Image.open(img_path)  # Open the image\n",
        "                x_dim, y_dim = img.size  # Get image dimensions\n",
        "                # Count the number of masks for the study\n",
        "                num_of_masks = sum(1 for f in os.listdir(class_dir) if f.startswith(study_id) and '_mask' in f)\n",
        "                # Append data to the dictionary\n",
        "                data['x_dim'].append(x_dim)\n",
        "                data['y_dim'].append(y_dim)\n",
        "                data['label'].append(label)\n",
        "                data['num_of_masks'].append(num_of_masks)\n",
        "                data['path'].append(img_path)\n",
        "\n",
        "    return pd.DataFrame(data)  # Return the dataframe"
      ],
      "metadata": {
        "id": "4NltNMjqHrDq"
      },
      "execution_count": 4,
      "outputs": []
    },
    {
      "cell_type": "code",
      "source": [
        "# Load dataset into a dataframe\n",
        "df = create_dataset_info_dataframe(root_dir)\n",
        "\n",
        "# Split dataset into training and validation sets\n",
        "train_df, val_df = train_test_split(df, test_size=0.2, random_state=random_seed, stratify=df['label'])"
      ],
      "metadata": {
        "id": "8FpstLwXHt0W"
      },
      "execution_count": 5,
      "outputs": []
    },
    {
      "cell_type": "code",
      "source": [
        "# Transformation pipeline\n",
        "transform = transforms.Compose([\n",
        "    transforms.Resize((128, 128)),  # Resize to smaller dimensions\n",
        "    transforms.ToTensor(),  # Convert images to tensor\n",
        "    transforms.Normalize(mean=[0.485, 0.456, 0.406], std=[0.229, 0.224, 0.225])  # Normalize\n",
        "])"
      ],
      "metadata": {
        "id": "WbQ8lxOYHwjm"
      },
      "execution_count": 6,
      "outputs": []
    },
    {
      "cell_type": "code",
      "source": [
        "# Custom dataset class for breast cancer images\n",
        "class BreastCancerDataset(Dataset):\n",
        "    def __init__(self, dataframe, transform=None):\n",
        "        self.dataframe = dataframe  # Dataframe containing image paths and labels\n",
        "        self.transform = transform  # Image transformations\n",
        "\n",
        "    def __len__(self):\n",
        "        return len(self.dataframe)  # Return the number of images in the dataset\n",
        "\n",
        "    def __getitem__(self, idx):\n",
        "        img_path = self.dataframe.iloc[idx]['path']  # Get the image path\n",
        "        img = Image.open(img_path).convert('RGB')  # Open and convert image to RGB\n",
        "\n",
        "        if self.transform:\n",
        "            img = self.transform(img)  # Apply transformations\n",
        "\n",
        "        # Convert label to binary (1 for malignant, 0 for benign)\n",
        "        label = 1 if self.dataframe.iloc[idx]['label'] == 'malignant' else 0\n",
        "        return img, label  # Return the image and its label"
      ],
      "metadata": {
        "id": "zxb8Kda0HyI3"
      },
      "execution_count": 7,
      "outputs": []
    },
    {
      "cell_type": "code",
      "source": [
        "# Create training and validation datasets and dataloaders\n",
        "train_dataset = BreastCancerDataset(dataframe=train_df, transform=transform)\n",
        "train_loader = DataLoader(train_dataset, batch_size=2, shuffle=True, num_workers=4)\n",
        "\n",
        "val_dataset = BreastCancerDataset(dataframe=val_df, transform=transform)\n",
        "val_loader = DataLoader(val_dataset, batch_size=2, shuffle=False, num_workers=4)"
      ],
      "metadata": {
        "colab": {
          "base_uri": "https://localhost:8080/"
        },
        "id": "5QzuC_WUH0HS",
        "outputId": "e4f24d36-0333-4786-da53-e90568ea0a71"
      },
      "execution_count": 8,
      "outputs": [
        {
          "output_type": "stream",
          "name": "stderr",
          "text": [
            "/usr/local/lib/python3.11/dist-packages/torch/utils/data/dataloader.py:617: UserWarning: This DataLoader will create 4 worker processes in total. Our suggested max number of worker in current system is 2, which is smaller than what this DataLoader is going to create. Please be aware that excessive worker creation might get DataLoader running slow or even freeze, lower the worker number to avoid potential slowness/freeze if necessary.\n",
            "  warnings.warn(\n"
          ]
        }
      ]
    },
    {
      "cell_type": "markdown",
      "source": [
        "# **Implementation**"
      ],
      "metadata": {
        "id": "EJvmWiCCH114"
      }
    },
    {
      "cell_type": "code",
      "source": [
        "# Define a simple CNN model\n",
        "class SimpleCNN(nn.Module):\n",
        "    def __init__(self):\n",
        "        super(SimpleCNN, self).__init__()\n",
        "\n",
        "        # Define convolutional layers\n",
        "        self.conv1 = nn.Conv2d(3, 32, kernel_size=3, padding=1)  # 3 input channels, 32 output channels\n",
        "        self.conv2 = nn.Conv2d(32, 64, kernel_size=3, padding=1)  # 32 input channels, 64 output channels\n",
        "        self.conv3 = nn.Conv2d(64, 128, kernel_size=3, padding=1)  # 64 input channels, 128 output channels\n",
        "        self.conv4 = nn.Conv2d(128, 256, kernel_size=3, padding=1)  # 128 input channels, 256 output channels\n",
        "\n",
        "        # Define fully connected layers\n",
        "        self.fc1 = nn.Linear(256 * 8 * 8, 512)  # Fully connected layer with 512 units\n",
        "        self.fc2 = nn.Linear(512, 1)  # Output layer with 1 unit (binary classification)\n",
        "\n",
        "    def forward(self, x):\n",
        "        # Apply convolutional layers with ReLU and max pooling\n",
        "        x = F.relu(self.conv1(x))\n",
        "        x = F.max_pool2d(x, 2)  # Max pooling with 2x2 window\n",
        "\n",
        "        x = F.relu(self.conv2(x))\n",
        "        x = F.max_pool2d(x, 2)\n",
        "\n",
        "        x = F.relu(self.conv3(x))\n",
        "        x = F.max_pool2d(x, 2)\n",
        "\n",
        "        x = F.relu(self.conv4(x))\n",
        "        x = F.max_pool2d(x, 2)\n",
        "\n",
        "        # Flatten the tensor for fully connected layers\n",
        "        x = x.view(x.size(0), -1)  # Flatten the tensor (batch_size, 256*8*8)\n",
        "\n",
        "        x = F.relu(self.fc1(x))  # Apply ReLU activation\n",
        "        x = self.fc2(x)  # Output layer (logits)\n",
        "\n",
        "        return x  # Return the output logits\n"
      ],
      "metadata": {
        "id": "ZoeteaRFH2QT"
      },
      "execution_count": 9,
      "outputs": []
    },
    {
      "cell_type": "markdown",
      "source": [
        "# **Evaluation**"
      ],
      "metadata": {
        "id": "KewLlIkWH5fy"
      }
    },
    {
      "cell_type": "code",
      "source": [
        "import torch\n",
        "import torch.nn as nn\n",
        "import torch.optim as optim\n",
        "from sklearn.metrics import roc_auc_score\n",
        "import matplotlib.pyplot as plt\n",
        "\n",
        "# Check if GPU is available and set device\n",
        "device = torch.device('cuda' if torch.cuda.is_available() else 'cpu')\n",
        "print(f'Using device: {device}')\n",
        "\n",
        "# Initialize the model and move it to the GPU\n",
        "model = SimpleCNN().to(device)\n",
        "\n",
        "# Define loss function and optimizer\n",
        "criterion = nn.BCEWithLogitsLoss()  # Binary cross-entropy loss with logits\n",
        "optimizer = torch.optim.Adam(model.parameters(), lr=0.001)  # Adam optimizer with learning rate 0.001\n",
        "\n",
        "# Helper function to calculate ROC AUC\n",
        "def calculate_roc_auc(loader):\n",
        "    model.eval()  # Set model to evaluation mode\n",
        "    all_labels = []\n",
        "    all_preds = []\n",
        "\n",
        "    with torch.no_grad():  # Disable gradient calculation\n",
        "        for imgs, labels in loader:\n",
        "            imgs, labels = imgs.to(device), labels.to(device)  # Move data to GPU\n",
        "            outputs = model(imgs)  # Forward pass\n",
        "            probs = torch.sigmoid(outputs)  # Get predicted probabilities\n",
        "            all_labels.extend(labels.cpu().numpy())  # Move labels back to CPU\n",
        "            all_preds.extend(probs.cpu().numpy())  # Move predictions back to CPU\n",
        "\n",
        "    # Calculate ROC AUC\n",
        "    auc = roc_auc_score(all_labels, all_preds)\n",
        "    return auc\n",
        "\n",
        "# Lists to store loss and ROC AUC values\n",
        "train_losses = []\n",
        "val_losses = []\n",
        "train_roc_aucs = []\n",
        "val_roc_aucs = []\n",
        "\n",
        "# Training loop\n",
        "epochs = 15\n",
        "for epoch in range(epochs):\n",
        "    model.train()  # Set model to training mode\n",
        "    running_train_loss = 0.0\n",
        "    for imgs, labels in train_loader:\n",
        "        imgs, labels = imgs.to(device), labels.to(device)  # Move data to GPU\n",
        "        optimizer.zero_grad()  # Zero the gradients\n",
        "\n",
        "        # Forward pass\n",
        "        outputs = model(imgs)\n",
        "\n",
        "        # Ensure labels have the same shape as outputs\n",
        "        labels = labels.view(-1, 1)  # Reshape labels to [batch_size, 1]\n",
        "\n",
        "        # Calculate loss\n",
        "        loss = criterion(outputs, labels.float())  # Apply loss function\n",
        "        loss.backward()  # Backward pass\n",
        "        optimizer.step()  # Update weights\n",
        "\n",
        "        running_train_loss += loss.item()  # Accumulate loss\n",
        "\n",
        "    # Calculate average training loss for the epoch\n",
        "    avg_train_loss = running_train_loss / len(train_loader)\n",
        "    train_losses.append(avg_train_loss)\n",
        "\n",
        "    # Evaluate on the validation set\n",
        "    model.eval()  # Set model to evaluation mode\n",
        "    running_val_loss = 0.0\n",
        "    with torch.no_grad():\n",
        "        for imgs, labels in val_loader:\n",
        "            imgs, labels = imgs.to(device), labels.to(device)  # Move data to GPU\n",
        "            outputs = model(imgs)\n",
        "            labels = labels.view(-1, 1)  # Reshape labels\n",
        "            loss = criterion(outputs, labels.float())  # Apply loss function\n",
        "            running_val_loss += loss.item()  # Accumulate validation loss\n",
        "\n",
        "    avg_val_loss = running_val_loss / len(val_loader)\n",
        "    val_losses.append(avg_val_loss)\n",
        "\n",
        "    # Calculate ROC AUC for both train and validation sets\n",
        "    train_roc_auc = calculate_roc_auc(train_loader)\n",
        "    val_roc_auc = calculate_roc_auc(val_loader)\n",
        "\n",
        "    train_roc_aucs.append(train_roc_auc)\n",
        "    val_roc_aucs.append(val_roc_auc)\n",
        "\n",
        "    # Print epoch info\n",
        "    print(f'Epoch [{epoch+1}/{epochs}], '\n",
        "          f'Train Loss: {avg_train_loss:.4f}, Train ROC AUC: {train_roc_auc:.4f}, '\n",
        "          f'Val Loss: {avg_val_loss:.4f}, Val ROC AUC: {val_roc_auc:.4f}')\n",
        "\n",
        "# Plotting the training and validation loss/ROC AUC curves\n",
        "plt.figure(figsize=(12, 5))\n",
        "\n",
        "# Plotting Loss curves\n",
        "plt.subplot(1, 2, 1)\n",
        "plt.plot(range(epochs), train_losses, marker='o', linestyle='-', color='b', label='Train Loss')\n",
        "plt.plot(range(epochs), val_losses, marker='o', linestyle='-', color='r', label='Val Loss')\n",
        "plt.title('Loss over Epochs')\n",
        "plt.xlabel('Epochs')\n",
        "plt.ylabel('Loss')\n",
        "plt.legend()\n",
        "plt.grid(True)\n",
        "\n",
        "# Plotting ROC AUC curves\n",
        "plt.subplot(1, 2, 2)\n",
        "plt.plot(range(epochs), train_roc_aucs, marker='o', linestyle='-', color='b', label='Train ROC AUC')\n",
        "plt.plot(range(epochs), val_roc_aucs, marker='o', linestyle='-', color='r', label='Val ROC AUC')\n",
        "plt.title('ROC AUC over Epochs')\n",
        "plt.xlabel('Epochs')\n",
        "plt.ylabel('ROC AUC')\n",
        "plt.legend()\n",
        "plt.grid(True)\n",
        "\n",
        "plt.tight_layout()\n",
        "plt.show()"
      ],
      "metadata": {
        "colab": {
          "base_uri": "https://localhost:8080/",
          "height": 1000
        },
        "id": "dMT3nYBLH7fP",
        "outputId": "fc18d864-7d41-4706-b42d-620a54e06bf4"
      },
      "execution_count": 10,
      "outputs": [
        {
          "output_type": "stream",
          "name": "stdout",
          "text": [
            "Using device: cuda\n"
          ]
        },
        {
          "output_type": "stream",
          "name": "stderr",
          "text": [
            "/usr/local/lib/python3.11/dist-packages/torch/utils/data/dataloader.py:617: UserWarning: This DataLoader will create 4 worker processes in total. Our suggested max number of worker in current system is 2, which is smaller than what this DataLoader is going to create. Please be aware that excessive worker creation might get DataLoader running slow or even freeze, lower the worker number to avoid potential slowness/freeze if necessary.\n",
            "  warnings.warn(\n"
          ]
        },
        {
          "output_type": "stream",
          "name": "stdout",
          "text": [
            "Epoch [1/15], Train Loss: 0.6638, Train ROC AUC: 0.7505, Val Loss: 0.6126, Val ROC AUC: 0.7071\n"
          ]
        },
        {
          "output_type": "stream",
          "name": "stderr",
          "text": [
            "/usr/local/lib/python3.11/dist-packages/torch/utils/data/dataloader.py:617: UserWarning: This DataLoader will create 4 worker processes in total. Our suggested max number of worker in current system is 2, which is smaller than what this DataLoader is going to create. Please be aware that excessive worker creation might get DataLoader running slow or even freeze, lower the worker number to avoid potential slowness/freeze if necessary.\n",
            "  warnings.warn(\n",
            "/usr/local/lib/python3.11/dist-packages/torch/utils/data/dataloader.py:617: UserWarning: This DataLoader will create 4 worker processes in total. Our suggested max number of worker in current system is 2, which is smaller than what this DataLoader is going to create. Please be aware that excessive worker creation might get DataLoader running slow or even freeze, lower the worker number to avoid potential slowness/freeze if necessary.\n",
            "  warnings.warn(\n"
          ]
        },
        {
          "output_type": "stream",
          "name": "stdout",
          "text": [
            "Epoch [2/15], Train Loss: 0.5735, Train ROC AUC: 0.8431, Val Loss: 0.5937, Val ROC AUC: 0.7580\n"
          ]
        },
        {
          "output_type": "stream",
          "name": "stderr",
          "text": [
            "/usr/local/lib/python3.11/dist-packages/torch/utils/data/dataloader.py:617: UserWarning: This DataLoader will create 4 worker processes in total. Our suggested max number of worker in current system is 2, which is smaller than what this DataLoader is going to create. Please be aware that excessive worker creation might get DataLoader running slow or even freeze, lower the worker number to avoid potential slowness/freeze if necessary.\n",
            "  warnings.warn(\n",
            "/usr/local/lib/python3.11/dist-packages/torch/utils/data/dataloader.py:617: UserWarning: This DataLoader will create 4 worker processes in total. Our suggested max number of worker in current system is 2, which is smaller than what this DataLoader is going to create. Please be aware that excessive worker creation might get DataLoader running slow or even freeze, lower the worker number to avoid potential slowness/freeze if necessary.\n",
            "  warnings.warn(\n"
          ]
        },
        {
          "output_type": "stream",
          "name": "stdout",
          "text": [
            "Epoch [3/15], Train Loss: 0.5879, Train ROC AUC: 0.5660, Val Loss: 0.7890, Val ROC AUC: 0.5829\n"
          ]
        },
        {
          "output_type": "stream",
          "name": "stderr",
          "text": [
            "/usr/local/lib/python3.11/dist-packages/torch/utils/data/dataloader.py:617: UserWarning: This DataLoader will create 4 worker processes in total. Our suggested max number of worker in current system is 2, which is smaller than what this DataLoader is going to create. Please be aware that excessive worker creation might get DataLoader running slow or even freeze, lower the worker number to avoid potential slowness/freeze if necessary.\n",
            "  warnings.warn(\n",
            "/usr/local/lib/python3.11/dist-packages/torch/utils/data/dataloader.py:617: UserWarning: This DataLoader will create 4 worker processes in total. Our suggested max number of worker in current system is 2, which is smaller than what this DataLoader is going to create. Please be aware that excessive worker creation might get DataLoader running slow or even freeze, lower the worker number to avoid potential slowness/freeze if necessary.\n",
            "  warnings.warn(\n"
          ]
        },
        {
          "output_type": "stream",
          "name": "stdout",
          "text": [
            "Epoch [4/15], Train Loss: 0.7074, Train ROC AUC: 0.6857, Val Loss: 0.6515, Val ROC AUC: 0.7492\n"
          ]
        },
        {
          "output_type": "stream",
          "name": "stderr",
          "text": [
            "/usr/local/lib/python3.11/dist-packages/torch/utils/data/dataloader.py:617: UserWarning: This DataLoader will create 4 worker processes in total. Our suggested max number of worker in current system is 2, which is smaller than what this DataLoader is going to create. Please be aware that excessive worker creation might get DataLoader running slow or even freeze, lower the worker number to avoid potential slowness/freeze if necessary.\n",
            "  warnings.warn(\n",
            "/usr/local/lib/python3.11/dist-packages/torch/utils/data/dataloader.py:617: UserWarning: This DataLoader will create 4 worker processes in total. Our suggested max number of worker in current system is 2, which is smaller than what this DataLoader is going to create. Please be aware that excessive worker creation might get DataLoader running slow or even freeze, lower the worker number to avoid potential slowness/freeze if necessary.\n",
            "  warnings.warn(\n"
          ]
        },
        {
          "output_type": "stream",
          "name": "stdout",
          "text": [
            "Epoch [5/15], Train Loss: 0.6328, Train ROC AUC: 0.5889, Val Loss: 0.6019, Val ROC AUC: 0.6266\n"
          ]
        },
        {
          "output_type": "stream",
          "name": "stderr",
          "text": [
            "/usr/local/lib/python3.11/dist-packages/torch/utils/data/dataloader.py:617: UserWarning: This DataLoader will create 4 worker processes in total. Our suggested max number of worker in current system is 2, which is smaller than what this DataLoader is going to create. Please be aware that excessive worker creation might get DataLoader running slow or even freeze, lower the worker number to avoid potential slowness/freeze if necessary.\n",
            "  warnings.warn(\n",
            "/usr/local/lib/python3.11/dist-packages/torch/utils/data/dataloader.py:617: UserWarning: This DataLoader will create 4 worker processes in total. Our suggested max number of worker in current system is 2, which is smaller than what this DataLoader is going to create. Please be aware that excessive worker creation might get DataLoader running slow or even freeze, lower the worker number to avoid potential slowness/freeze if necessary.\n",
            "  warnings.warn(\n"
          ]
        },
        {
          "output_type": "stream",
          "name": "stdout",
          "text": [
            "Epoch [6/15], Train Loss: 0.5880, Train ROC AUC: 0.7826, Val Loss: 0.6151, Val ROC AUC: 0.6927\n"
          ]
        },
        {
          "output_type": "stream",
          "name": "stderr",
          "text": [
            "/usr/local/lib/python3.11/dist-packages/torch/utils/data/dataloader.py:617: UserWarning: This DataLoader will create 4 worker processes in total. Our suggested max number of worker in current system is 2, which is smaller than what this DataLoader is going to create. Please be aware that excessive worker creation might get DataLoader running slow or even freeze, lower the worker number to avoid potential slowness/freeze if necessary.\n",
            "  warnings.warn(\n",
            "/usr/local/lib/python3.11/dist-packages/torch/utils/data/dataloader.py:617: UserWarning: This DataLoader will create 4 worker processes in total. Our suggested max number of worker in current system is 2, which is smaller than what this DataLoader is going to create. Please be aware that excessive worker creation might get DataLoader running slow or even freeze, lower the worker number to avoid potential slowness/freeze if necessary.\n",
            "  warnings.warn(\n"
          ]
        },
        {
          "output_type": "stream",
          "name": "stdout",
          "text": [
            "Epoch [7/15], Train Loss: 0.5872, Train ROC AUC: 0.8094, Val Loss: 0.5604, Val ROC AUC: 0.7003\n"
          ]
        },
        {
          "output_type": "stream",
          "name": "stderr",
          "text": [
            "/usr/local/lib/python3.11/dist-packages/torch/utils/data/dataloader.py:617: UserWarning: This DataLoader will create 4 worker processes in total. Our suggested max number of worker in current system is 2, which is smaller than what this DataLoader is going to create. Please be aware that excessive worker creation might get DataLoader running slow or even freeze, lower the worker number to avoid potential slowness/freeze if necessary.\n",
            "  warnings.warn(\n",
            "/usr/local/lib/python3.11/dist-packages/torch/utils/data/dataloader.py:617: UserWarning: This DataLoader will create 4 worker processes in total. Our suggested max number of worker in current system is 2, which is smaller than what this DataLoader is going to create. Please be aware that excessive worker creation might get DataLoader running slow or even freeze, lower the worker number to avoid potential slowness/freeze if necessary.\n",
            "  warnings.warn(\n"
          ]
        },
        {
          "output_type": "stream",
          "name": "stdout",
          "text": [
            "Epoch [8/15], Train Loss: 0.5456, Train ROC AUC: 0.8510, Val Loss: 0.5242, Val ROC AUC: 0.8237\n"
          ]
        },
        {
          "output_type": "stream",
          "name": "stderr",
          "text": [
            "/usr/local/lib/python3.11/dist-packages/torch/utils/data/dataloader.py:617: UserWarning: This DataLoader will create 4 worker processes in total. Our suggested max number of worker in current system is 2, which is smaller than what this DataLoader is going to create. Please be aware that excessive worker creation might get DataLoader running slow or even freeze, lower the worker number to avoid potential slowness/freeze if necessary.\n",
            "  warnings.warn(\n",
            "/usr/local/lib/python3.11/dist-packages/torch/utils/data/dataloader.py:617: UserWarning: This DataLoader will create 4 worker processes in total. Our suggested max number of worker in current system is 2, which is smaller than what this DataLoader is going to create. Please be aware that excessive worker creation might get DataLoader running slow or even freeze, lower the worker number to avoid potential slowness/freeze if necessary.\n",
            "  warnings.warn(\n"
          ]
        },
        {
          "output_type": "stream",
          "name": "stdout",
          "text": [
            "Epoch [9/15], Train Loss: 0.5080, Train ROC AUC: 0.8791, Val Loss: 0.4967, Val ROC AUC: 0.8353\n"
          ]
        },
        {
          "output_type": "stream",
          "name": "stderr",
          "text": [
            "/usr/local/lib/python3.11/dist-packages/torch/utils/data/dataloader.py:617: UserWarning: This DataLoader will create 4 worker processes in total. Our suggested max number of worker in current system is 2, which is smaller than what this DataLoader is going to create. Please be aware that excessive worker creation might get DataLoader running slow or even freeze, lower the worker number to avoid potential slowness/freeze if necessary.\n",
            "  warnings.warn(\n",
            "/usr/local/lib/python3.11/dist-packages/torch/utils/data/dataloader.py:617: UserWarning: This DataLoader will create 4 worker processes in total. Our suggested max number of worker in current system is 2, which is smaller than what this DataLoader is going to create. Please be aware that excessive worker creation might get DataLoader running slow or even freeze, lower the worker number to avoid potential slowness/freeze if necessary.\n",
            "  warnings.warn(\n"
          ]
        },
        {
          "output_type": "stream",
          "name": "stdout",
          "text": [
            "Epoch [10/15], Train Loss: 0.4065, Train ROC AUC: 0.9387, Val Loss: 0.5464, Val ROC AUC: 0.8582\n"
          ]
        },
        {
          "output_type": "stream",
          "name": "stderr",
          "text": [
            "/usr/local/lib/python3.11/dist-packages/torch/utils/data/dataloader.py:617: UserWarning: This DataLoader will create 4 worker processes in total. Our suggested max number of worker in current system is 2, which is smaller than what this DataLoader is going to create. Please be aware that excessive worker creation might get DataLoader running slow or even freeze, lower the worker number to avoid potential slowness/freeze if necessary.\n",
            "  warnings.warn(\n",
            "/usr/local/lib/python3.11/dist-packages/torch/utils/data/dataloader.py:617: UserWarning: This DataLoader will create 4 worker processes in total. Our suggested max number of worker in current system is 2, which is smaller than what this DataLoader is going to create. Please be aware that excessive worker creation might get DataLoader running slow or even freeze, lower the worker number to avoid potential slowness/freeze if necessary.\n",
            "  warnings.warn(\n"
          ]
        },
        {
          "output_type": "stream",
          "name": "stdout",
          "text": [
            "Epoch [11/15], Train Loss: 0.3311, Train ROC AUC: 0.8623, Val Loss: 0.5644, Val ROC AUC: 0.7744\n"
          ]
        },
        {
          "output_type": "stream",
          "name": "stderr",
          "text": [
            "/usr/local/lib/python3.11/dist-packages/torch/utils/data/dataloader.py:617: UserWarning: This DataLoader will create 4 worker processes in total. Our suggested max number of worker in current system is 2, which is smaller than what this DataLoader is going to create. Please be aware that excessive worker creation might get DataLoader running slow or even freeze, lower the worker number to avoid potential slowness/freeze if necessary.\n",
            "  warnings.warn(\n",
            "/usr/local/lib/python3.11/dist-packages/torch/utils/data/dataloader.py:617: UserWarning: This DataLoader will create 4 worker processes in total. Our suggested max number of worker in current system is 2, which is smaller than what this DataLoader is going to create. Please be aware that excessive worker creation might get DataLoader running slow or even freeze, lower the worker number to avoid potential slowness/freeze if necessary.\n",
            "  warnings.warn(\n"
          ]
        },
        {
          "output_type": "stream",
          "name": "stdout",
          "text": [
            "Epoch [12/15], Train Loss: 0.3090, Train ROC AUC: 0.9796, Val Loss: 0.6215, Val ROC AUC: 0.8365\n"
          ]
        },
        {
          "output_type": "stream",
          "name": "stderr",
          "text": [
            "/usr/local/lib/python3.11/dist-packages/torch/utils/data/dataloader.py:617: UserWarning: This DataLoader will create 4 worker processes in total. Our suggested max number of worker in current system is 2, which is smaller than what this DataLoader is going to create. Please be aware that excessive worker creation might get DataLoader running slow or even freeze, lower the worker number to avoid potential slowness/freeze if necessary.\n",
            "  warnings.warn(\n",
            "/usr/local/lib/python3.11/dist-packages/torch/utils/data/dataloader.py:617: UserWarning: This DataLoader will create 4 worker processes in total. Our suggested max number of worker in current system is 2, which is smaller than what this DataLoader is going to create. Please be aware that excessive worker creation might get DataLoader running slow or even freeze, lower the worker number to avoid potential slowness/freeze if necessary.\n",
            "  warnings.warn(\n"
          ]
        },
        {
          "output_type": "stream",
          "name": "stdout",
          "text": [
            "Epoch [13/15], Train Loss: 0.2013, Train ROC AUC: 0.9800, Val Loss: 0.5193, Val ROC AUC: 0.8614\n"
          ]
        },
        {
          "output_type": "stream",
          "name": "stderr",
          "text": [
            "/usr/local/lib/python3.11/dist-packages/torch/utils/data/dataloader.py:617: UserWarning: This DataLoader will create 4 worker processes in total. Our suggested max number of worker in current system is 2, which is smaller than what this DataLoader is going to create. Please be aware that excessive worker creation might get DataLoader running slow or even freeze, lower the worker number to avoid potential slowness/freeze if necessary.\n",
            "  warnings.warn(\n",
            "/usr/local/lib/python3.11/dist-packages/torch/utils/data/dataloader.py:617: UserWarning: This DataLoader will create 4 worker processes in total. Our suggested max number of worker in current system is 2, which is smaller than what this DataLoader is going to create. Please be aware that excessive worker creation might get DataLoader running slow or even freeze, lower the worker number to avoid potential slowness/freeze if necessary.\n",
            "  warnings.warn(\n"
          ]
        },
        {
          "output_type": "stream",
          "name": "stdout",
          "text": [
            "Epoch [14/15], Train Loss: 0.1651, Train ROC AUC: 0.9967, Val Loss: 0.8967, Val ROC AUC: 0.8714\n"
          ]
        },
        {
          "output_type": "stream",
          "name": "stderr",
          "text": [
            "/usr/local/lib/python3.11/dist-packages/torch/utils/data/dataloader.py:617: UserWarning: This DataLoader will create 4 worker processes in total. Our suggested max number of worker in current system is 2, which is smaller than what this DataLoader is going to create. Please be aware that excessive worker creation might get DataLoader running slow or even freeze, lower the worker number to avoid potential slowness/freeze if necessary.\n",
            "  warnings.warn(\n",
            "/usr/local/lib/python3.11/dist-packages/torch/utils/data/dataloader.py:617: UserWarning: This DataLoader will create 4 worker processes in total. Our suggested max number of worker in current system is 2, which is smaller than what this DataLoader is going to create. Please be aware that excessive worker creation might get DataLoader running slow or even freeze, lower the worker number to avoid potential slowness/freeze if necessary.\n",
            "  warnings.warn(\n"
          ]
        },
        {
          "output_type": "stream",
          "name": "stdout",
          "text": [
            "Epoch [15/15], Train Loss: 0.0925, Train ROC AUC: 0.9990, Val Loss: 0.8102, Val ROC AUC: 0.8454\n"
          ]
        },
        {
          "output_type": "display_data",
          "data": {
            "text/plain": [
              "<Figure size 1200x500 with 2 Axes>"
            ],
            "image/png": "[encoded data removed]"
          },
          "metadata": {}
        }
      ]
    },
    {
      "cell_type": "code",
      "source": [],
      "metadata": {
        "id": "V8cejDgqH59I"
      },
      "execution_count": 10,
      "outputs": []
    }
  ]
}